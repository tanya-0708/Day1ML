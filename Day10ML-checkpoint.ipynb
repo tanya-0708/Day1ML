{
 "cells": [
  {
   "cell_type": "code",
   "execution_count": 2,
   "metadata": {},
   "outputs": [],
   "source": [
    "import pandas as pd\n",
    "import numpy as np\n"
   ]
  },
  {
   "cell_type": "code",
   "execution_count": 3,
   "metadata": {},
   "outputs": [
    {
     "data": {
      "text/html": [
       "<div>\n",
       "<style scoped>\n",
       "    .dataframe tbody tr th:only-of-type {\n",
       "        vertical-align: middle;\n",
       "    }\n",
       "\n",
       "    .dataframe tbody tr th {\n",
       "        vertical-align: top;\n",
       "    }\n",
       "\n",
       "    .dataframe thead th {\n",
       "        text-align: right;\n",
       "    }\n",
       "</style>\n",
       "<table border=\"1\" class=\"dataframe\">\n",
       "  <thead>\n",
       "    <tr style=\"text-align: right;\">\n",
       "      <th></th>\n",
       "      <th>meanfreq</th>\n",
       "      <th>sd</th>\n",
       "      <th>median</th>\n",
       "      <th>Q25</th>\n",
       "      <th>Q75</th>\n",
       "      <th>IQR</th>\n",
       "      <th>skew</th>\n",
       "      <th>kurt</th>\n",
       "      <th>sp.ent</th>\n",
       "      <th>sfm</th>\n",
       "      <th>...</th>\n",
       "      <th>centroid</th>\n",
       "      <th>meanfun</th>\n",
       "      <th>minfun</th>\n",
       "      <th>maxfun</th>\n",
       "      <th>meandom</th>\n",
       "      <th>mindom</th>\n",
       "      <th>maxdom</th>\n",
       "      <th>dfrange</th>\n",
       "      <th>modindx</th>\n",
       "      <th>label</th>\n",
       "    </tr>\n",
       "  </thead>\n",
       "  <tbody>\n",
       "    <tr>\n",
       "      <th>0</th>\n",
       "      <td>0.059781</td>\n",
       "      <td>0.064241</td>\n",
       "      <td>0.032027</td>\n",
       "      <td>0.015071</td>\n",
       "      <td>0.090193</td>\n",
       "      <td>0.075122</td>\n",
       "      <td>12.863462</td>\n",
       "      <td>274.402906</td>\n",
       "      <td>0.893369</td>\n",
       "      <td>0.491918</td>\n",
       "      <td>...</td>\n",
       "      <td>0.059781</td>\n",
       "      <td>0.084279</td>\n",
       "      <td>0.015702</td>\n",
       "      <td>0.275862</td>\n",
       "      <td>0.007812</td>\n",
       "      <td>0.007812</td>\n",
       "      <td>0.007812</td>\n",
       "      <td>0.000000</td>\n",
       "      <td>0.000000</td>\n",
       "      <td>male</td>\n",
       "    </tr>\n",
       "    <tr>\n",
       "      <th>1</th>\n",
       "      <td>0.066009</td>\n",
       "      <td>0.067310</td>\n",
       "      <td>0.040229</td>\n",
       "      <td>0.019414</td>\n",
       "      <td>0.092666</td>\n",
       "      <td>0.073252</td>\n",
       "      <td>22.423285</td>\n",
       "      <td>634.613855</td>\n",
       "      <td>0.892193</td>\n",
       "      <td>0.513724</td>\n",
       "      <td>...</td>\n",
       "      <td>0.066009</td>\n",
       "      <td>0.107937</td>\n",
       "      <td>0.015826</td>\n",
       "      <td>0.250000</td>\n",
       "      <td>0.009014</td>\n",
       "      <td>0.007812</td>\n",
       "      <td>0.054688</td>\n",
       "      <td>0.046875</td>\n",
       "      <td>0.052632</td>\n",
       "      <td>male</td>\n",
       "    </tr>\n",
       "    <tr>\n",
       "      <th>2</th>\n",
       "      <td>0.077316</td>\n",
       "      <td>0.083829</td>\n",
       "      <td>0.036718</td>\n",
       "      <td>0.008701</td>\n",
       "      <td>0.131908</td>\n",
       "      <td>0.123207</td>\n",
       "      <td>30.757155</td>\n",
       "      <td>1024.927705</td>\n",
       "      <td>0.846389</td>\n",
       "      <td>0.478905</td>\n",
       "      <td>...</td>\n",
       "      <td>0.077316</td>\n",
       "      <td>0.098706</td>\n",
       "      <td>0.015656</td>\n",
       "      <td>0.271186</td>\n",
       "      <td>0.007990</td>\n",
       "      <td>0.007812</td>\n",
       "      <td>0.015625</td>\n",
       "      <td>0.007812</td>\n",
       "      <td>0.046512</td>\n",
       "      <td>male</td>\n",
       "    </tr>\n",
       "    <tr>\n",
       "      <th>3</th>\n",
       "      <td>0.151228</td>\n",
       "      <td>0.072111</td>\n",
       "      <td>0.158011</td>\n",
       "      <td>0.096582</td>\n",
       "      <td>0.207955</td>\n",
       "      <td>0.111374</td>\n",
       "      <td>1.232831</td>\n",
       "      <td>4.177296</td>\n",
       "      <td>0.963322</td>\n",
       "      <td>0.727232</td>\n",
       "      <td>...</td>\n",
       "      <td>0.151228</td>\n",
       "      <td>0.088965</td>\n",
       "      <td>0.017798</td>\n",
       "      <td>0.250000</td>\n",
       "      <td>0.201497</td>\n",
       "      <td>0.007812</td>\n",
       "      <td>0.562500</td>\n",
       "      <td>0.554688</td>\n",
       "      <td>0.247119</td>\n",
       "      <td>male</td>\n",
       "    </tr>\n",
       "    <tr>\n",
       "      <th>4</th>\n",
       "      <td>0.135120</td>\n",
       "      <td>0.079146</td>\n",
       "      <td>0.124656</td>\n",
       "      <td>0.078720</td>\n",
       "      <td>0.206045</td>\n",
       "      <td>0.127325</td>\n",
       "      <td>1.101174</td>\n",
       "      <td>4.333713</td>\n",
       "      <td>0.971955</td>\n",
       "      <td>0.783568</td>\n",
       "      <td>...</td>\n",
       "      <td>0.135120</td>\n",
       "      <td>0.106398</td>\n",
       "      <td>0.016931</td>\n",
       "      <td>0.266667</td>\n",
       "      <td>0.712812</td>\n",
       "      <td>0.007812</td>\n",
       "      <td>5.484375</td>\n",
       "      <td>5.476562</td>\n",
       "      <td>0.208274</td>\n",
       "      <td>male</td>\n",
       "    </tr>\n",
       "  </tbody>\n",
       "</table>\n",
       "<p>5 rows × 21 columns</p>\n",
       "</div>"
      ],
      "text/plain": [
       "   meanfreq        sd    median       Q25       Q75       IQR       skew  \\\n",
       "0  0.059781  0.064241  0.032027  0.015071  0.090193  0.075122  12.863462   \n",
       "1  0.066009  0.067310  0.040229  0.019414  0.092666  0.073252  22.423285   \n",
       "2  0.077316  0.083829  0.036718  0.008701  0.131908  0.123207  30.757155   \n",
       "3  0.151228  0.072111  0.158011  0.096582  0.207955  0.111374   1.232831   \n",
       "4  0.135120  0.079146  0.124656  0.078720  0.206045  0.127325   1.101174   \n",
       "\n",
       "          kurt    sp.ent       sfm  ...  centroid   meanfun    minfun  \\\n",
       "0   274.402906  0.893369  0.491918  ...  0.059781  0.084279  0.015702   \n",
       "1   634.613855  0.892193  0.513724  ...  0.066009  0.107937  0.015826   \n",
       "2  1024.927705  0.846389  0.478905  ...  0.077316  0.098706  0.015656   \n",
       "3     4.177296  0.963322  0.727232  ...  0.151228  0.088965  0.017798   \n",
       "4     4.333713  0.971955  0.783568  ...  0.135120  0.106398  0.016931   \n",
       "\n",
       "     maxfun   meandom    mindom    maxdom   dfrange   modindx  label  \n",
       "0  0.275862  0.007812  0.007812  0.007812  0.000000  0.000000   male  \n",
       "1  0.250000  0.009014  0.007812  0.054688  0.046875  0.052632   male  \n",
       "2  0.271186  0.007990  0.007812  0.015625  0.007812  0.046512   male  \n",
       "3  0.250000  0.201497  0.007812  0.562500  0.554688  0.247119   male  \n",
       "4  0.266667  0.712812  0.007812  5.484375  5.476562  0.208274   male  \n",
       "\n",
       "[5 rows x 21 columns]"
      ]
     },
     "execution_count": 3,
     "metadata": {},
     "output_type": "execute_result"
    }
   ],
   "source": [
    "dataset=pd.read_csv(r\"C:\\Users\\Parveen\\Desktop\\ML\\voice.csv\")\n",
    "dataset.head()"
   ]
  },
  {
   "cell_type": "code",
   "execution_count": 4,
   "metadata": {},
   "outputs": [
    {
     "name": "stdout",
     "output_type": "stream",
     "text": [
      "(3168, 21)\n"
     ]
    }
   ],
   "source": [
    "print (dataset.shape)"
   ]
  },
  {
   "cell_type": "code",
   "execution_count": 5,
   "metadata": {},
   "outputs": [
    {
     "name": "stdout",
     "output_type": "stream",
     "text": [
      "meanfreq    0\n",
      "sd          0\n",
      "median      0\n",
      "Q25         0\n",
      "Q75         0\n",
      "IQR         0\n",
      "skew        0\n",
      "kurt        0\n",
      "sp.ent      0\n",
      "sfm         0\n",
      "mode        0\n",
      "centroid    0\n",
      "meanfun     0\n",
      "minfun      0\n",
      "maxfun      0\n",
      "meandom     0\n",
      "mindom      0\n",
      "maxdom      0\n",
      "dfrange     0\n",
      "modindx     0\n",
      "label       0\n",
      "dtype: int64\n"
     ]
    }
   ],
   "source": [
    "print(dataset.isnull().sum())"
   ]
  },
  {
   "cell_type": "markdown",
   "metadata": {},
   "source": [
    "No missing data"
   ]
  },
  {
   "cell_type": "code",
   "execution_count": 6,
   "metadata": {},
   "outputs": [
    {
     "name": "stdout",
     "output_type": "stream",
     "text": [
      "      meanfreq        sd    median       Q25       Q75       IQR       skew  \\\n",
      "0     0.059781  0.064241  0.032027  0.015071  0.090193  0.075122  12.863462   \n",
      "1     0.066009  0.067310  0.040229  0.019414  0.092666  0.073252  22.423285   \n",
      "2     0.077316  0.083829  0.036718  0.008701  0.131908  0.123207  30.757155   \n",
      "3     0.151228  0.072111  0.158011  0.096582  0.207955  0.111374   1.232831   \n",
      "4     0.135120  0.079146  0.124656  0.078720  0.206045  0.127325   1.101174   \n",
      "...        ...       ...       ...       ...       ...       ...        ...   \n",
      "3163  0.131884  0.084734  0.153707  0.049285  0.201144  0.151859   1.762129   \n",
      "3164  0.116221  0.089221  0.076758  0.042718  0.204911  0.162193   0.693730   \n",
      "3165  0.142056  0.095798  0.183731  0.033424  0.224360  0.190936   1.876502   \n",
      "3166  0.143659  0.090628  0.184976  0.043508  0.219943  0.176435   1.591065   \n",
      "3167  0.165509  0.092884  0.183044  0.070072  0.250827  0.180756   1.705029   \n",
      "\n",
      "             kurt    sp.ent       sfm      mode  centroid   meanfun    minfun  \\\n",
      "0      274.402906  0.893369  0.491918  0.000000  0.059781  0.084279  0.015702   \n",
      "1      634.613855  0.892193  0.513724  0.000000  0.066009  0.107937  0.015826   \n",
      "2     1024.927705  0.846389  0.478905  0.000000  0.077316  0.098706  0.015656   \n",
      "3        4.177296  0.963322  0.727232  0.083878  0.151228  0.088965  0.017798   \n",
      "4        4.333713  0.971955  0.783568  0.104261  0.135120  0.106398  0.016931   \n",
      "...           ...       ...       ...       ...       ...       ...       ...   \n",
      "3163     6.630383  0.962934  0.763182  0.200836  0.131884  0.182790  0.083770   \n",
      "3164     2.503954  0.960716  0.709570  0.013683  0.116221  0.188980  0.034409   \n",
      "3165     6.604509  0.946854  0.654196  0.008006  0.142056  0.209918  0.039506   \n",
      "3166     5.388298  0.950436  0.675470  0.212202  0.143659  0.172375  0.034483   \n",
      "3167     5.769115  0.938829  0.601529  0.267702  0.165509  0.185607  0.062257   \n",
      "\n",
      "        maxfun   meandom    mindom    maxdom   dfrange   modindx  \n",
      "0     0.275862  0.007812  0.007812  0.007812  0.000000  0.000000  \n",
      "1     0.250000  0.009014  0.007812  0.054688  0.046875  0.052632  \n",
      "2     0.271186  0.007990  0.007812  0.015625  0.007812  0.046512  \n",
      "3     0.250000  0.201497  0.007812  0.562500  0.554688  0.247119  \n",
      "4     0.266667  0.712812  0.007812  5.484375  5.476562  0.208274  \n",
      "...        ...       ...       ...       ...       ...       ...  \n",
      "3163  0.262295  0.832899  0.007812  4.210938  4.203125  0.161929  \n",
      "3164  0.275862  0.909856  0.039062  3.679688  3.640625  0.277897  \n",
      "3165  0.275862  0.494271  0.007812  2.937500  2.929688  0.194759  \n",
      "3166  0.250000  0.791360  0.007812  3.593750  3.585938  0.311002  \n",
      "3167  0.271186  0.227022  0.007812  0.554688  0.546875  0.350000  \n",
      "\n",
      "[3168 rows x 20 columns]\n"
     ]
    }
   ],
   "source": [
    "x=dataset.iloc[:,0:20]\n",
    "print(x)"
   ]
  },
  {
   "cell_type": "code",
   "execution_count": 7,
   "metadata": {},
   "outputs": [
    {
     "data": {
      "text/plain": [
       "(3168, 20)"
      ]
     },
     "execution_count": 7,
     "metadata": {},
     "output_type": "execute_result"
    }
   ],
   "source": [
    "x.shape"
   ]
  },
  {
   "cell_type": "code",
   "execution_count": 8,
   "metadata": {},
   "outputs": [
    {
     "name": "stdout",
     "output_type": "stream",
     "text": [
      "0         male\n",
      "1         male\n",
      "2         male\n",
      "3         male\n",
      "4         male\n",
      "         ...  \n",
      "3163    female\n",
      "3164    female\n",
      "3165    female\n",
      "3166    female\n",
      "3167    female\n",
      "Name: label, Length: 3168, dtype: object\n"
     ]
    }
   ],
   "source": [
    "y=dataset.iloc[:,20]\n",
    "print(y)"
   ]
  },
  {
   "cell_type": "code",
   "execution_count": 21,
   "metadata": {},
   "outputs": [
    {
     "name": "stdout",
     "output_type": "stream",
     "text": [
      "0         male\n",
      "1         male\n",
      "2         male\n",
      "3         male\n",
      "4         male\n",
      "         ...  \n",
      "3163    female\n",
      "3164    female\n",
      "3165    female\n",
      "3166    female\n",
      "3167    female\n",
      "Name: label, Length: 3168, dtype: object\n"
     ]
    }
   ],
   "source": [
    "y1=dataset.iloc[:,20]\n",
    "print(y1)"
   ]
  },
  {
   "cell_type": "code",
   "execution_count": 22,
   "metadata": {},
   "outputs": [
    {
     "data": {
      "text/plain": [
       "(3168,)"
      ]
     },
     "execution_count": 22,
     "metadata": {},
     "output_type": "execute_result"
    }
   ],
   "source": [
    "y1.shape"
   ]
  },
  {
   "cell_type": "code",
   "execution_count": 10,
   "metadata": {},
   "outputs": [],
   "source": [
    "from sklearn.feature_selection import SelectKBest\n"
   ]
  },
  {
   "cell_type": "code",
   "execution_count": 11,
   "metadata": {},
   "outputs": [],
   "source": [
    "from sklearn.feature_selection import chi2\n"
   ]
  },
  {
   "cell_type": "code",
   "execution_count": 12,
   "metadata": {},
   "outputs": [
    {
     "name": "stdout",
     "output_type": "stream",
     "text": [
      "       feat         score\n",
      "7      kurt  11987.597926\n",
      "17   maxdom    297.819019\n",
      "18  dfrange    290.272018\n",
      "15  meandom     38.460229\n",
      "9       sfm     31.246850\n",
      "5       IQR     26.337745\n",
      "6      skew     24.329583\n",
      "12  meanfun     16.094352\n",
      "3       Q25     13.977196\n",
      "16   mindom      9.162780\n"
     ]
    }
   ],
   "source": [
    "bestf = SelectKBest(score_func=chi2, k=10)\n",
    "fit = bestf.fit(x,y)\n",
    "dfscores = pd.DataFrame(fit.scores_)\n",
    "dfcolumns = pd.DataFrame(x.columns)\n",
    "featureScores = pd.concat([dfcolumns,dfscores], axis=1)\n",
    "featureScores.columns = ['feat','score']\n",
    "print(featureScores.nlargest(10,'score'))"
   ]
  },
  {
   "cell_type": "code",
   "execution_count": 14,
   "metadata": {},
   "outputs": [
    {
     "name": "stdout",
     "output_type": "stream",
     "text": [
      "             kurt    maxdom   dfrange   meandom       sfm       IQR  \\\n",
      "0      274.402906  0.007812  0.000000  0.007812  0.491918  0.075122   \n",
      "1      634.613855  0.054688  0.046875  0.009014  0.513724  0.073252   \n",
      "2     1024.927705  0.015625  0.007812  0.007990  0.478905  0.123207   \n",
      "3        4.177296  0.562500  0.554688  0.201497  0.727232  0.111374   \n",
      "4        4.333713  5.484375  5.476562  0.712812  0.783568  0.127325   \n",
      "...           ...       ...       ...       ...       ...       ...   \n",
      "3163     6.630383  4.210938  4.203125  0.832899  0.763182  0.151859   \n",
      "3164     2.503954  3.679688  3.640625  0.909856  0.709570  0.162193   \n",
      "3165     6.604509  2.937500  2.929688  0.494271  0.654196  0.190936   \n",
      "3166     5.388298  3.593750  3.585938  0.791360  0.675470  0.176435   \n",
      "3167     5.769115  0.554688  0.546875  0.227022  0.601529  0.180756   \n",
      "\n",
      "           skew   meanfun       Q25    mindom  \n",
      "0     12.863462  0.084279  0.015071  0.007812  \n",
      "1     22.423285  0.107937  0.019414  0.007812  \n",
      "2     30.757155  0.098706  0.008701  0.007812  \n",
      "3      1.232831  0.088965  0.096582  0.007812  \n",
      "4      1.101174  0.106398  0.078720  0.007812  \n",
      "...         ...       ...       ...       ...  \n",
      "3163   1.762129  0.182790  0.049285  0.007812  \n",
      "3164   0.693730  0.188980  0.042718  0.039062  \n",
      "3165   1.876502  0.209918  0.033424  0.007812  \n",
      "3166   1.591065  0.172375  0.043508  0.007812  \n",
      "3167   1.705029  0.185607  0.070072  0.007812  \n",
      "\n",
      "[3168 rows x 10 columns]\n"
     ]
    }
   ],
   "source": [
    "X= dataset[['kurt','maxdom','dfrange','meandom','sfm', 'IQR','skew','meanfun','Q25','mindom']]\n",
    "print(X)"
   ]
  },
  {
   "cell_type": "code",
   "execution_count": 15,
   "metadata": {},
   "outputs": [
    {
     "data": {
      "text/plain": [
       "(3168, 10)"
      ]
     },
     "execution_count": 15,
     "metadata": {},
     "output_type": "execute_result"
    }
   ],
   "source": [
    "X.shape"
   ]
  },
  {
   "cell_type": "code",
   "execution_count": 24,
   "metadata": {},
   "outputs": [
    {
     "name": "stdout",
     "output_type": "stream",
     "text": [
      "[1 1 1 ... 0 0 0]\n"
     ]
    }
   ],
   "source": [
    "from sklearn.preprocessing import LabelEncoder\n",
    "g_encoder = LabelEncoder()\n",
    "y1=g_encoder.fit_transform(y1)\n",
    "print(y1)"
   ]
  },
  {
   "cell_type": "code",
   "execution_count": 25,
   "metadata": {},
   "outputs": [
    {
     "data": {
      "text/plain": [
       "array([[ 1.76294635, -1.43142165, -1.41913712, ..., -1.81203825,\n",
       "        -2.57610164, -0.70840431],\n",
       "       [ 4.43300778, -1.41810716, -1.4058184 , ..., -1.07959443,\n",
       "        -2.48688452, -0.70840431],\n",
       "       [ 7.32620677, -1.42920257, -1.41691733, ..., -1.36536788,\n",
       "        -2.7069865 , -0.70840431],\n",
       "       ...,\n",
       "       [-0.22210761, -0.5992661 , -0.58671739, ...,  2.07778102,\n",
       "        -2.1990394 , -0.70840431],\n",
       "       [-0.23112277, -0.41286326, -0.40025537, ...,  0.91544494,\n",
       "        -1.99185206, -0.70840431],\n",
       "       [-0.22829996, -1.27608595, -1.2637521 , ...,  1.32511084,\n",
       "        -1.44608897, -0.70840431]])"
      ]
     },
     "execution_count": 25,
     "metadata": {},
     "output_type": "execute_result"
    }
   ],
   "source": [
    "from sklearn.preprocessing import StandardScaler\n",
    "norm_x=StandardScaler()\n",
    "X=norm_x.fit_transform(X)\n",
    "X\n"
   ]
  },
  {
   "cell_type": "code",
   "execution_count": 26,
   "metadata": {},
   "outputs": [
    {
     "data": {
      "text/plain": [
       "array([1, 1, 1, ..., 0, 0, 0], dtype=int32)"
      ]
     },
     "execution_count": 26,
     "metadata": {},
     "output_type": "execute_result"
    }
   ],
   "source": [
    "y1"
   ]
  },
  {
   "cell_type": "code",
   "execution_count": 28,
   "metadata": {},
   "outputs": [],
   "source": [
    "from sklearn.model_selection import train_test_split\n",
    "X_train, X_test, y_train, y_test = train_test_split(X,y1,test_size=0.33,random_state=0)"
   ]
  },
  {
   "cell_type": "code",
   "execution_count": 29,
   "metadata": {},
   "outputs": [],
   "source": [
    "from sklearn.svm import SVC\n",
    "from sklearn.metrics import accuracy_score\n",
    "from sklearn.metrics import confusion_matrix\n",
    "\n",
    "model= SVC()"
   ]
  },
  {
   "cell_type": "code",
   "execution_count": 30,
   "metadata": {},
   "outputs": [
    {
     "name": "stdout",
     "output_type": "stream",
     "text": [
      "Accuracy of above model is 98.0880%\n",
      "[[485  11]\n",
      " [  9 541]]\n"
     ]
    },
    {
     "name": "stderr",
     "output_type": "stream",
     "text": [
      "C:\\Users\\Parveen\\anaconda3\\lib\\site-packages\\sklearn\\svm\\base.py:193: FutureWarning: The default value of gamma will change from 'auto' to 'scale' in version 0.22 to account better for unscaled features. Set gamma explicitly to 'auto' or 'scale' to avoid this warning.\n",
      "  \"avoid this warning.\", FutureWarning)\n"
     ]
    }
   ],
   "source": [
    "model.fit(X_train,y_train)\n",
    "y_pred= model.predict(X_test)\n",
    "print(\"Accuracy of above model is %.4f%%\"%(accuracy_score(y_test,y_pred)*100))\n",
    "print(confusion_matrix(y_test,y_pred))"
   ]
  },
  {
   "cell_type": "code",
   "execution_count": 31,
   "metadata": {},
   "outputs": [
    {
     "name": "stdout",
     "output_type": "stream",
     "text": [
      "Accuracy of above model is 98.0880%\n",
      "[[485  11]\n",
      " [  9 541]]\n"
     ]
    },
    {
     "name": "stderr",
     "output_type": "stream",
     "text": [
      "C:\\Users\\Parveen\\anaconda3\\lib\\site-packages\\sklearn\\svm\\base.py:193: FutureWarning: The default value of gamma will change from 'auto' to 'scale' in version 0.22 to account better for unscaled features. Set gamma explicitly to 'auto' or 'scale' to avoid this warning.\n",
      "  \"avoid this warning.\", FutureWarning)\n"
     ]
    }
   ],
   "source": [
    "model = SVC(kernel = 'rbf')\n",
    "model.fit(X_train,y_train)\n",
    "y_pred= model.predict(X_test)\n",
    "print(\"Accuracy of above model is %.4f%%\"%(accuracy_score(y_test,y_pred)*100))\n",
    "print(confusion_matrix(y_test,y_pred))"
   ]
  },
  {
   "cell_type": "code",
   "execution_count": 32,
   "metadata": {},
   "outputs": [
    {
     "name": "stdout",
     "output_type": "stream",
     "text": [
      "Accuracy of above model is 95.9847%\n",
      "[[460  36]\n",
      " [  6 544]]\n"
     ]
    },
    {
     "name": "stderr",
     "output_type": "stream",
     "text": [
      "C:\\Users\\Parveen\\anaconda3\\lib\\site-packages\\sklearn\\svm\\base.py:193: FutureWarning: The default value of gamma will change from 'auto' to 'scale' in version 0.22 to account better for unscaled features. Set gamma explicitly to 'auto' or 'scale' to avoid this warning.\n",
      "  \"avoid this warning.\", FutureWarning)\n"
     ]
    }
   ],
   "source": [
    "model = SVC(kernel = 'poly')\n",
    "model.fit(X_train,y_train)\n",
    "y_pred= model.predict(X_test)\n",
    "print(\"Accuracy of above model is %.4f%%\"%(accuracy_score(y_test,y_pred)*100))\n",
    "print(confusion_matrix(y_test,y_pred))"
   ]
  },
  {
   "cell_type": "code",
   "execution_count": null,
   "metadata": {},
   "outputs": [],
   "source": []
  }
 ],
 "metadata": {
  "kernelspec": {
   "display_name": "Python 3",
   "language": "python",
   "name": "python3"
  },
  "language_info": {
   "codemirror_mode": {
    "name": "ipython",
    "version": 3
   },
   "file_extension": ".py",
   "mimetype": "text/x-python",
   "name": "python",
   "nbconvert_exporter": "python",
   "pygments_lexer": "ipython3",
   "version": "3.7.6"
  }
 },
 "nbformat": 4,
 "nbformat_minor": 4
}
